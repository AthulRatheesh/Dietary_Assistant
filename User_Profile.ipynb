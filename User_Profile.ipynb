{
 "cells": [
  {
   "cell_type": "code",
   "execution_count": 1,
   "id": "564a9c29-26a1-4a18-b87e-87d9226cccfc",
   "metadata": {},
   "outputs": [
    {
     "name": "stdout",
     "output_type": "stream",
     "text": [
      "Requirement already satisfied: psycopg2 in c:\\users\\rethe\\anaconda3\\lib\\site-packages (2.9.9)\n"
     ]
    }
   ],
   "source": [
    "!pip install psycopg2"
   ]
  },
  {
   "cell_type": "code",
   "execution_count": 3,
   "id": "3a216373-47e5-47f9-95f1-19c46142769a",
   "metadata": {},
   "outputs": [],
   "source": [
    "import psycopg2 as pg"
   ]
  },
  {
   "cell_type": "code",
   "execution_count": 13,
   "id": "27f19c54-63d3-40ee-a603-6edc721308a0",
   "metadata": {},
   "outputs": [],
   "source": [
    "try:\n",
    "    conn=pg.connect(host=\"localhost\",port=\"5432\",database=\"user_profile\",user=\"postgres\",password=\"1234\")\n",
    "except:\n",
    "    print(\"Connection Failed\")"
   ]
  },
  {
   "cell_type": "code",
   "execution_count": 15,
   "id": "8eae57cf-500f-4b26-af00-0d3ab4a97244",
   "metadata": {},
   "outputs": [],
   "source": [
    "from config import config"
   ]
  },
  {
   "cell_type": "code",
   "execution_count": 21,
   "id": "7b6f937d-cede-48c8-8ca7-c8cdd359fb96",
   "metadata": {},
   "outputs": [
    {
     "name": "stdout",
     "output_type": "stream",
     "text": [
      "Connecting.....\n",
      "Connection Established!\n"
     ]
    }
   ],
   "source": [
    "def connect():\n",
    "    conn=None\n",
    "    params=config()\n",
    "    try:\n",
    "        print(\"Connecting.....\")\n",
    "        conn=pg.connect(**params)\n",
    "        print(\"Connection Established!\")\n",
    "\n",
    "        \n",
    "    except:\n",
    "        print(\"Connection Failed\")\n",
    "connect()"
   ]
  },
  {
   "cell_type": "code",
   "execution_count": null,
   "id": "20db1845-0d19-4e70-99b2-c97b04cc401f",
   "metadata": {},
   "outputs": [],
   "source": []
  }
 ],
 "metadata": {
  "kernelspec": {
   "display_name": "Python 3 (ipykernel)",
   "language": "python",
   "name": "python3"
  },
  "language_info": {
   "codemirror_mode": {
    "name": "ipython",
    "version": 3
   },
   "file_extension": ".py",
   "mimetype": "text/x-python",
   "name": "python",
   "nbconvert_exporter": "python",
   "pygments_lexer": "ipython3",
   "version": "3.12.4"
  }
 },
 "nbformat": 4,
 "nbformat_minor": 5
}
